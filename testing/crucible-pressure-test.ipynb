{
 "cells": [
  {
   "cell_type": "markdown",
   "metadata": {},
   "source": [
    "# Pressure Testing"
   ]
  },
  {
   "cell_type": "markdown",
   "metadata": {},
   "source": [
    "### Protocol 1\n",
    "\n",
    "1. Seal crucible body with greased cork and o-ring\n",
    "2. Pull vacuum for 10 minutes\n",
    "3. Record 10-minute pressure and calculate RMS pressure\n",
    "4. Close valve and turn pump off\n",
    "5. Record time stable at 10-minute pressure\n",
    "6. Record time to reach RMS pressure\n",
    "7. Repeat for 3 cycles without removing crucible body from vacuum pump"
   ]
  },
  {
   "cell_type": "code",
   "execution_count": 16,
   "metadata": {
    "collapsed": true
   },
   "outputs": [],
   "source": [
    "import math\n",
    "import matplotlib.pyplot as plt"
   ]
  },
  {
   "cell_type": "code",
   "execution_count": 23,
   "metadata": {},
   "outputs": [],
   "source": [
    "all_runs = dict()\n",
    "colors = [\"b\", \"g\", \"r\", \"c\", \"m\", \"y\", \"k\"]\n",
    "fig, axarr = plt.subplots(3, 1)\n",
    "fig.set_size_inches(6, 18)\n",
    "\n",
    "def rms_pressure(pressure):\n",
    "    return pressure/math.sqrt(2)\n",
    "\n",
    "#slow but readable\n",
    "def record(ten_min_pressure, stable_time, rms_time, run, cycle):\n",
    "    if run not in set(all_runs.keys()):\n",
    "        all_runs[run] = {cycle: {\"10 min pressure\": ten_min_pressure, \"stable time\": stable_time, \\\n",
    "                                        \"rms time\": rms_time}}\n",
    "    all_runs[run][cycle] = {\"10 min pressure\": ten_min_pressure, \"stable time\": stable_time, \\\n",
    "                                        \"rms time\": rms_time}\n",
    "    \n",
    "    \n",
    "def plot_all(start, stop):\n",
    "    color_iter = iter(colors)\n",
    "    run = start\n",
    "    max_cycles = max([len(list(all_runs.get(run))) for run in range(start, stop)])\n",
    "    def next_color():\n",
    "        try:\n",
    "            return next(color_iter)\n",
    "        except:\n",
    "            color_iter = iter(colors)\n",
    "            return next(color_iter)\n",
    "        \n",
    "    def plot_run(run):\n",
    "        if len(list(all_runs.get(run))) == max_cycles:\n",
    "            ten_min_pressure = [all_runs.get(run).get(cycle).get(\"10 min pressure\") for cycle in list(all_runs.get(run))]\n",
    "            stable_time = [all_runs.get(run).get(cycle).get(\"stable time\") for cycle in list(all_runs.get(run))]\n",
    "            rms_time = [all_runs.get(run).get(cycle).get(\"rms time\") for cycle in list(all_runs.get(run))]\n",
    "        else: \n",
    "            ten_min_pressure = [all_runs.get(run).get(cycle).get(\"10 min pressure\") for cycle in list(all_runs.get(run))] \\\n",
    "                                + [None for i in range(max_cycles - len(list(all_runs.get(run))))] \n",
    "            stable_time = [all_runs.get(run).get(cycle).get(\"stable time\") for cycle in list(all_runs.get(run))] \\\n",
    "                                + [None for i in range(max_cycles - len(list(all_runs.get(run))))] \n",
    "            rms_time = [all_runs.get(run).get(cycle).get(\"rms time\") for cycle in list(all_runs.get(run))] \\\n",
    "                                + [None for i in range(max_cycles - len(list(all_runs.get(run))))]\n",
    "        axarr[0].plot(range(3), ten_min_pressuree, '--', marker='o', color=next_color(), label=\"run \"+str(run))\n",
    "        axarr[1].plot(range(3), stable_time, '--', marker='o', color=next_color(), label=\"run \"+str(run))  \n",
    "        axarr[2].plot(range(3), rms_time, '--', marker='o', color=next_color(), label=\"run \"+str(run)) \n",
    "        return 1\n",
    "    \n",
    "    for run in range(start, stop):\n",
    "        plot_run(run)\n",
    "    axarr[0].set_xlabel('cycles')\n",
    "    axarr[0].set_ylabel(\"10 min pressure (mmHg)\")\n",
    "    axarr[0].set_title(\"10 min pressure for runs \" + str(start) + \" to \" + str(stop))\n",
    "    axarr[1].set_xlabel('cycles')\n",
    "    axarr[1].set_ylabel(\"stable time (sec)\")\n",
    "    axarr[1].set_title(\"stable time for runs \" + str(start) + \" to \" + str(stop))\n",
    "    axarr[2].set_xlabel('cycles')\n",
    "    axarr[2].set_ylabel(\"rms time (sec)\")\n",
    "    axarr[2].set_title(\"rms time for runs \" + str(start) + \" to \" + str(stop))\n",
    "    plt.tight_layout()\n",
    "    plt.show()    "
   ]
  },
  {
   "cell_type": "code",
   "execution_count": 24,
   "metadata": {},
   "outputs": [
    {
     "data": {
      "text/plain": [
       "19.09188309203678"
      ]
     },
     "execution_count": 24,
     "metadata": {},
     "output_type": "execute_result"
    }
   ],
   "source": [
    "#EXPERIMENT-TIME CALCUALTIONS\n",
    "\n",
    "rms_pressure(27)"
   ]
  },
  {
   "cell_type": "code",
   "execution_count": 88,
   "metadata": {},
   "outputs": [],
   "source": [
    "#RECORD AND PLOT CYCLE DATA\n",
    "\n",
    "#record(ten_min_pressure, stable_time, rms_time, run, cycle)\n",
    "#print(list(all_runs))\n",
    "#plot_all(list(all_runs), len(list(all_runs)))"
   ]
  },
  {
   "cell_type": "markdown",
   "metadata": {},
   "source": [
    "### Protocol 2\n",
    "\n",
    "1. Seal crucible body with greased cork and o-ring\n",
    "2. Pull vacuum until pressure is stable\n",
    "3. Record time to reach stable pressure\n",
    "4. Close valve and turn pump off\n",
    "5. Record time stable at 10-minute pressure\n",
    "6. Record time to reach RMS pressure\n",
    "7. Repeat for 3 cycles without removing crucible body from vacuum pump"
   ]
  },
  {
   "cell_type": "code",
   "execution_count": 84,
   "metadata": {},
   "outputs": [],
   "source": [
    "all_runs = dict()\n",
    "colors = [\"b\", \"g\", \"r\", \"c\", \"m\", \"y\", \"k\"]\n",
    "fig, axarr = plt.subplots(4, 1)\n",
    "fig.set_size_inches(6, 24)\n",
    "\n",
    "def rms_pressure(pressure):\n",
    "    return pressure/math.sqrt(2)\n",
    "\n",
    "#slow but readable\n",
    "def record(time_to_stability, stable_pressure, stable_time, rms_time, run, cycle):\n",
    "    if run not in set(all_runs.keys()):\n",
    "        all_runs[run] = {cycle: {\"time to stability\": time_to_stability, \"stable pressure\": stable_pressure, \\\n",
    "                                 \"stable time\": stable_time,\"rms time\": rms_time}}\n",
    "    all_runs[run][cycle] = {\"time to stability\": time_to_stability, \"stable pressure\": stable_pressure, \\\n",
    "                                 \"stable time\": stable_time,\"rms time\": rms_time}\n",
    "    \n",
    "    \n",
    "def plot_all(start, stop):\n",
    "    color_iter = iter(colors)\n",
    "    run = start\n",
    "    max_cycles = max([len(list(all_runs.get(run))) for run in range(start, stop)])\n",
    "    \n",
    "    def next_color():\n",
    "        global color_iter\n",
    "        try:\n",
    "            return next(color_iter)\n",
    "        except:\n",
    "            color_iter = iter(colors)\n",
    "            return next(color_iter)\n",
    "        \n",
    "    def plot_run(run):\n",
    "        if len(list(all_runs.get(run))) == max_cycles:\n",
    "            stability_time = [all_runs.get(run).get(cycle).get(\"time to stability\") for cycle in list(all_runs.get(run))]\n",
    "            stable_pressure = [all_runs.get(run).get(cycle).get(\"stable pressure\") for cycle in list(all_runs.get(run))]\n",
    "            stable_time = [all_runs.get(run).get(cycle).get(\"stable time\") for cycle in list(all_runs.get(run))]\n",
    "            rms_time = [all_runs.get(run).get(cycle).get(\"rms time\") for cycle in list(all_runs.get(run))]\n",
    "        else: \n",
    "            stability_time = [all_runs.get(run).get(cycle).get(\"time to stability\") for cycle in list(all_runs.get(run))] \\\n",
    "                                + [None for i in range(max_cycles - len(list(all_runs.get(run))))]\n",
    "            stable_pressure = [all_runs.get(run).get(cycle).get(\"stable pressure\") for cycle in list(all_runs.get(run))] \\\n",
    "                                + [None for i in range(max_cycles - len(list(all_runs.get(run))))] \n",
    "            stable_time = [all_runs.get(run).get(cycle).get(\"stable time\") for cycle in list(all_runs.get(run))] \\\n",
    "                                + [None for i in range(max_cycles - len(list(all_runs.get(run))))] \n",
    "            rms_time = [all_runs.get(run).get(cycle).get(\"rms time\") for cycle in list(all_runs.get(run))] \\\n",
    "                                + [None for i in range(max_cycles - len(list(all_runs.get(run))))]\n",
    "        axarr[0].plot(range(3), stability_time, '--', marker='o', color=next_color(), label=\"run \"+str(run))\n",
    "        axarr[1].plot(range(3), stable_pressure, '--', marker='o', color=next_color(), label=\"run \"+str(run))  \n",
    "        axarr[2].plot(range(3), stable_time, '--', marker='o', color=next_color(), label=\"run \"+str(run)) \n",
    "        axarr[3].plot(range(3), rms_time, '--', marker='o', color=next_color(), label=\"run \"+str(run))\n",
    "        return 1\n",
    "    \n",
    "    for run in range(start, stop):\n",
    "        plot_run(run)\n",
    "    axarr[0].set_xlabel('cycles')\n",
    "    axarr[0].set_ylabel(\"time to stability (sec)\")\n",
    "    axarr[0].set_title(\"time to stability for runs \" + str(start) + \" to \" + str(stop))\n",
    "    axarr[1].set_xlabel('cycles')\n",
    "    axarr[1].set_ylabel(\"stable pressure (mmHg)\")\n",
    "    axarr[1].set_title(\"stable pressure for runs \" + str(start) + \" to \" + str(stop))\n",
    "    axarr[2].set_xlabel('cycles')\n",
    "    axarr[2].set_ylabel(\"stable time (sec)\")\n",
    "    axarr[2].set_title(\"stable time for runs \" + str(start) + \" to \" + str(stop))\n",
    "    axarr[3].set_xlabel('cycles')\n",
    "    axarr[3].set_ylabel(\"rms time (sec)\")\n",
    "    axarr[3].set_title(\"rms time for runs \" + str(start) + \" to \" + str(stop))\n",
    "    plt.show()   \n",
    "    return 1"
   ]
  },
  {
   "cell_type": "code",
   "execution_count": 85,
   "metadata": {},
   "outputs": [
    {
     "data": {
      "text/plain": [
       "19.09188309203678"
      ]
     },
     "execution_count": 85,
     "metadata": {},
     "output_type": "execute_result"
    }
   ],
   "source": [
    "#EXPERIMENT-TIME CALCUALTIONS\n",
    "\n",
    "rms_pressure(27)"
   ]
  },
  {
   "cell_type": "code",
   "execution_count": 86,
   "metadata": {},
   "outputs": [
    {
     "name": "stdout",
     "output_type": "stream",
     "text": [
      "[1, 2]\n"
     ]
    },
    {
     "data": {
      "image/png": "[encoded data removed]",
      "text/plain": [
       "<matplotlib.figure.Figure at 0x16168a668>"
      ]
     },
     "metadata": {},
     "output_type": "display_data"
    },
    {
     "data": {
      "text/plain": [
       "1"
      ]
     },
     "execution_count": 86,
     "metadata": {},
     "output_type": "execute_result"
    }
   ],
   "source": [
    "#RECORD AND PLOT CYCLE DATA\n",
    "\n",
    "#record(time_to_stability, stable_pressure, stable_time, rms_time, run, cycle)\n",
    "record(10, 15, 20, 15, 1, 1)\n",
    "record(10, 15, 20, 15, 1, 2)\n",
    "record(10, 15, 20, 15, 1, 3)\n",
    "record(30, 15, 20, 15, 2, 1)\n",
    "print(list(all_runs))\n",
    "plot_all(1, 3)"
   ]
  },
  {
   "cell_type": "code",
   "execution_count": null,
   "metadata": {
    "collapsed": true
   },
   "outputs": [],
   "source": []
  }
 ],
 "metadata": {
  "kernelspec": {
   "display_name": "Python 3",
   "language": "python",
   "name": "python3"
  },
  "language_info": {
   "codemirror_mode": {
    "name": "ipython",
    "version": 3
   },
   "file_extension": ".py",
   "mimetype": "text/x-python",
   "name": "python",
   "nbconvert_exporter": "python",
   "pygments_lexer": "ipython3",
   "version": "3.6.1"
  }
 },
 "nbformat": 4,
 "nbformat_minor": 2
}
